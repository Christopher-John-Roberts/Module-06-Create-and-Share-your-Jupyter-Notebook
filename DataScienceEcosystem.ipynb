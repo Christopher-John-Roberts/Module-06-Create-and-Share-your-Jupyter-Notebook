{
 "cells": [
  {
   "cell_type": "markdown",
   "id": "04bcdbb5-8b98-4df8-b930-87219c82bfee",
   "metadata": {},
   "source": [
    "# Data Science Tools and Ecosystem"
   ]
  },
  {
   "cell_type": "markdown",
   "id": "07792a0a-212a-40e8-9c44-f8564e90bfc2",
   "metadata": {},
   "source": [
    "In this notebook, Data Science Tools and Ecosystem are summarized."
   ]
  },
  {
   "cell_type": "markdown",
   "id": "a0ecfe2d-8ec6-4e26-83fe-323854819319",
   "metadata": {},
   "source": [
    "__Objectives:__\n",
    "- List populat lnguages for Data Science\n",
    "- List commonly used libraries used by Data Scientists\n",
    "- List open source development environments\n",
    "- Demonstrate arithmetic expressions"
   ]
  },
  {
   "cell_type": "markdown",
   "id": "3142f5ca-d888-408b-a331-a2b8729d5047",
   "metadata": {},
   "source": [
    "## Author\n",
    "Christopher John Roberts"
   ]
  },
  {
   "cell_type": "markdown",
   "id": "27ba0fd1-02ff-48f5-85fd-d86fe632da76",
   "metadata": {},
   "source": [
    "Some of the popular languages that Data Scientists use are:\n",
    "\n",
    "1. Python\n",
    "2. R\n",
    "3. SQL\n",
    "4. Java\n",
    "5. Scala\n",
    "6. C++\n",
    "7. JavaScript\n",
    "8. Julia"
   ]
  },
  {
   "cell_type": "markdown",
   "id": "17971240-6800-47e2-9862-e1034d5583db",
   "metadata": {},
   "source": [
    "Some of the commonly used libraries used by Data Scientists include:\n",
    "\n",
    "1. Pandas\n",
    "2. NumPy\n",
    "3. SciPy\n",
    "4. Matplotlib\n",
    "5. TensorFlow\n",
    "6. PyTorch\n",
    "7. Keras\n",
    "8. Scikit-learn."
   ]
  },
  {
   "cell_type": "markdown",
   "id": "564156ae-b0bf-4dca-8a11-a8e48b129026",
   "metadata": {},
   "source": [
    "| Data Science Tools |\n",
    "| ------------------ |\n",
    "| Jupyter |\n",
    "| Apache Zeppelin |\n",
    "| RStudio  |"
   ]
  },
  {
   "cell_type": "markdown",
   "id": "746c144f-602e-475c-b96d-da90fe63e0af",
   "metadata": {},
   "source": [
    "### Below are a few examples of evaluating arithmetic expressions in Python"
   ]
  },
  {
   "cell_type": "code",
   "execution_count": 2,
   "id": "60d7f915-b243-47a3-a5e6-6cac53b3b808",
   "metadata": {},
   "outputs": [
    {
     "data": {
      "text/plain": [
       "17"
      ]
     },
     "execution_count": 2,
     "metadata": {},
     "output_type": "execute_result"
    }
   ],
   "source": [
    "# This a simple arithmetic expression to mutiply then add integers\n",
    "(3*4)+5"
   ]
  },
  {
   "cell_type": "code",
   "execution_count": 3,
   "id": "2ff5dc90-2f9c-4ae8-8539-b9668152faa2",
   "metadata": {},
   "outputs": [
    {
     "data": {
      "text/plain": [
       "3.3333333333333335"
      ]
     },
     "execution_count": 3,
     "metadata": {},
     "output_type": "execute_result"
    }
   ],
   "source": [
    "# This will convert 200 minutes to hours by diving by 60\n",
    "200 / 60"
   ]
  },
  {
   "cell_type": "code",
   "execution_count": null,
   "id": "2e71e020-3955-4210-a413-b599b1ac7018",
   "metadata": {},
   "outputs": [],
   "source": []
  }
 ],
 "metadata": {
  "kernelspec": {
   "display_name": "Python 3 (ipykernel)",
   "language": "python",
   "name": "python3"
  },
  "language_info": {
   "codemirror_mode": {
    "name": "ipython",
    "version": 3
   },
   "file_extension": ".py",
   "mimetype": "text/x-python",
   "name": "python",
   "nbconvert_exporter": "python",
   "pygments_lexer": "ipython3",
   "version": "3.12.3"
  }
 },
 "nbformat": 4,
 "nbformat_minor": 5
}
